{
 "cells": [
  {
   "cell_type": "code",
   "execution_count": 1,
   "id": "f26b8f13",
   "metadata": {},
   "outputs": [],
   "source": [
    "functions = ['Accountant','Accounts','Accounts Receivables','RTR','R2R','Auditor','Internal auditor','Risk','Finance','Chief Financial Officer','CFO']\n",
    "designations = ['Executive','Manager','Clerk','Coordinator','Supervisor','Bookkeeper','Specialist']\n",
    "\n",
    "personas = []\n",
    "\n",
    "for func in functions:\n",
    "    for desg in designations:\n",
    "        personas.append(func+' '+desg)"
   ]
  },
  {
   "cell_type": "code",
   "execution_count": 2,
   "id": "c1c44a2a",
   "metadata": {},
   "outputs": [],
   "source": [
    "actions = ['see real-time information','run an automated report','Run an integrated report','generate a list','create a table','have an overview']\n",
    "informations = ['payments received','payments from customers','payments that are overdue','payments that are late','payments that are delinquent','customers that are overdue','accounts receivables','all receivables','outstanding payments']\n",
    "\n",
    "perform_action =[]\n",
    "\n",
    "for act in actions:\n",
    "    for info in informations:\n",
    "        perform_action.append(act+' of '+info)"
   ]
  },
  {
   "cell_type": "code",
   "execution_count": 3,
   "id": "69e4d649",
   "metadata": {},
   "outputs": [],
   "source": [
    "goals = ['check that payments have been made','update my ledger','update my books','follow up on late payments','alert the collections team','send reminders to clients','identify risky accounts','plan for next quarter']"
   ]
  },
  {
   "cell_type": "markdown",
   "id": "7ac9f7d0",
   "metadata": {},
   "source": [
    "Cosine similarity with BERT embedding"
   ]
  },
  {
   "cell_type": "code",
   "execution_count": 4,
   "id": "1e3c31f1",
   "metadata": {},
   "outputs": [],
   "source": [
    "#!pip install sentence-transformers\n",
    "from sentence_transformers import SentenceTransformer"
   ]
  },
  {
   "cell_type": "code",
   "execution_count": 5,
   "id": "79a39a16",
   "metadata": {},
   "outputs": [],
   "source": [
    "model = SentenceTransformer('bert-base-nli-mean-tokens')"
   ]
  },
  {
   "cell_type": "code",
   "execution_count": 6,
   "id": "7d036b66",
   "metadata": {},
   "outputs": [],
   "source": [
    "personas_embedding = model.encode(personas)\n",
    "perform_action_embedding = model.encode(perform_action)\n",
    "goals_embedding = model.encode(goals)"
   ]
  },
  {
   "cell_type": "code",
   "execution_count": 7,
   "id": "4082315a",
   "metadata": {},
   "outputs": [],
   "source": [
    "input_embedding = model.encode(['Accounting Manager'])"
   ]
  },
  {
   "cell_type": "code",
   "execution_count": 8,
   "id": "da0dea66",
   "metadata": {},
   "outputs": [],
   "source": [
    "from sklearn.metrics.pairwise import cosine_similarity\n",
    "\n",
    "personas_matching = cosine_similarity(input_embedding,personas_embedding)\n",
    "perform_action_matching = cosine_similarity(input_embedding,perform_action_embedding)\n",
    "goals_matching = cosine_similarity(input_embedding,goals_embedding)"
   ]
  },
  {
   "cell_type": "code",
   "execution_count": 13,
   "id": "a5edd5c6",
   "metadata": {},
   "outputs": [],
   "source": [
    "import numpy as np"
   ]
  },
  {
   "cell_type": "code",
   "execution_count": 18,
   "id": "b9481237",
   "metadata": {},
   "outputs": [],
   "source": [
    "persona_details = {\"Cosine mean\":np.mean(personas_matching[0]), \n",
    "                   \"Cosine median\":np.median(personas_matching[0]), \n",
    "                   \"Cosine max\":max(personas_matching[0])}\n",
    "\n",
    "perform_action_details = {\"Cosine mean\":np.mean(perform_action_matching[0]), \n",
    "                   \"Cosine median\":np.median(perform_action_matching[0]), \n",
    "                   \"Cosine max\":max(perform_action_matching[0])}\n",
    "\n",
    "goals_matching_details = {\"Cosine mean\":np.mean(goals_matching[0]), \n",
    "                   \"Cosine median\":np.median(goals_matching[0]), \n",
    "                   \"Cosine max\":max(goals_matching[0])}\n"
   ]
  },
  {
   "cell_type": "code",
   "execution_count": 9,
   "id": "c695b81d",
   "metadata": {},
   "outputs": [],
   "source": [
    "if max(personas_matching[0])>=.9:\n",
    "    persona_match = True\n",
    "if max(perform_action_matching[0])>=.9:\n",
    "    perform_action_match = True\n",
    "if max(goals_matching[0])>=.9:\n",
    "    goals_matching_match = True\n"
   ]
  },
  {
   "cell_type": "code",
   "execution_count": 19,
   "id": "aeb7109f",
   "metadata": {},
   "outputs": [
    {
     "data": {
      "text/plain": [
       "{'Cosine mean': 0.46857357,\n",
       " 'Cosine median': 0.43362188,\n",
       " 'Cosine max': 0.65079033}"
      ]
     },
     "execution_count": 19,
     "metadata": {},
     "output_type": "execute_result"
    }
   ],
   "source": [
    "goals_matching_details"
   ]
  },
  {
   "cell_type": "code",
   "execution_count": 33,
   "id": "c4b916db",
   "metadata": {},
   "outputs": [
    {
     "name": "stdout",
     "output_type": "stream",
     "text": [
      "Accountant Executive - cosine similarity : 0.888129\n",
      "Accountant Manager - cosine similarity : 0.9145132\n",
      "Accountant Clerk - cosine similarity : 0.91501033\n",
      "Accountant Coordinator - cosine similarity : 0.8770982\n",
      "Accountant Supervisor - cosine similarity : 0.9021012\n",
      "Accountant Bookkeeper - cosine similarity : 0.8456726\n",
      "Accountant Specialist - cosine similarity : 0.8554238\n",
      "Accounts Executive - cosine similarity : 0.9042426\n",
      "Accounts Manager - cosine similarity : 0.9248974\n",
      "Accounts Clerk - cosine similarity : 0.9043741\n",
      "Accounts Coordinator - cosine similarity : 0.8580309\n",
      "Accounts Supervisor - cosine similarity : 0.8991292\n",
      "Accounts Bookkeeper - cosine similarity : 0.8342922\n",
      "Accounts Specialist - cosine similarity : 0.86093426\n",
      "Accounts Receivables Executive - cosine similarity : 0.86453384\n",
      "Accounts Receivables Manager - cosine similarity : 0.89080995\n",
      "Accounts Receivables Clerk - cosine similarity : 0.88358796\n",
      "Accounts Receivables Coordinator - cosine similarity : 0.82431626\n",
      "Accounts Receivables Supervisor - cosine similarity : 0.87972546\n",
      "Accounts Receivables Bookkeeper - cosine similarity : 0.7797309\n",
      "Accounts Receivables Specialist - cosine similarity : 0.8344438\n",
      "RTR Executive - cosine similarity : 0.56709754\n",
      "RTR Manager - cosine similarity : 0.57253397\n",
      "RTR Clerk - cosine similarity : 0.6215141\n",
      "RTR Coordinator - cosine similarity : 0.4388736\n",
      "RTR Supervisor - cosine similarity : 0.54008245\n",
      "RTR Bookkeeper - cosine similarity : 0.5727776\n",
      "RTR Specialist - cosine similarity : 0.41138503\n",
      "R2R Executive - cosine similarity : 0.539795\n",
      "R2R Manager - cosine similarity : 0.53775114\n",
      "R2R Clerk - cosine similarity : 0.5571754\n",
      "R2R Coordinator - cosine similarity : 0.41281235\n",
      "R2R Supervisor - cosine similarity : 0.50780964\n",
      "R2R Bookkeeper - cosine similarity : 0.5747827\n",
      "R2R Specialist - cosine similarity : 0.3805358\n",
      "Auditor Executive - cosine similarity : 0.84762156\n",
      "Auditor Manager - cosine similarity : 0.8533688\n",
      "Auditor Clerk - cosine similarity : 0.87798816\n",
      "Auditor Coordinator - cosine similarity : 0.77905416\n",
      "Auditor Supervisor - cosine similarity : 0.83926356\n",
      "Auditor Bookkeeper - cosine similarity : 0.79509354\n",
      "Auditor Specialist - cosine similarity : 0.7620394\n",
      "Internal auditor Executive - cosine similarity : 0.81292045\n",
      "Internal auditor Manager - cosine similarity : 0.8157102\n",
      "Internal auditor Clerk - cosine similarity : 0.834625\n",
      "Internal auditor Coordinator - cosine similarity : 0.75356865\n",
      "Internal auditor Supervisor - cosine similarity : 0.79954636\n",
      "Internal auditor Bookkeeper - cosine similarity : 0.77871203\n",
      "Internal auditor Specialist - cosine similarity : 0.7422904\n",
      "Risk Executive - cosine similarity : 0.6297708\n",
      "Risk Manager - cosine similarity : 0.62310904\n",
      "Risk Clerk - cosine similarity : 0.57393706\n",
      "Risk Coordinator - cosine similarity : 0.5063975\n",
      "Risk Supervisor - cosine similarity : 0.55006516\n",
      "Risk Bookkeeper - cosine similarity : 0.553844\n",
      "Risk Specialist - cosine similarity : 0.479602\n",
      "Finance Executive - cosine similarity : 0.75785077\n",
      "Finance Manager - cosine similarity : 0.7814255\n",
      "Finance Clerk - cosine similarity : 0.80740464\n",
      "Finance Coordinator - cosine similarity : 0.6911831\n",
      "Finance Supervisor - cosine similarity : 0.75892097\n",
      "Finance Bookkeeper - cosine similarity : 0.74577284\n",
      "Finance Specialist - cosine similarity : 0.68844664\n",
      "Chief Financial Officer Executive - cosine similarity : 0.7942484\n",
      "Chief Financial Officer Manager - cosine similarity : 0.83546054\n",
      "Chief Financial Officer Clerk - cosine similarity : 0.8476044\n",
      "Chief Financial Officer Coordinator - cosine similarity : 0.7725629\n",
      "Chief Financial Officer Supervisor - cosine similarity : 0.8243209\n",
      "Chief Financial Officer Bookkeeper - cosine similarity : 0.7886349\n",
      "Chief Financial Officer Specialist - cosine similarity : 0.7776195\n",
      "CFO Executive - cosine similarity : 0.7502062\n",
      "CFO Manager - cosine similarity : 0.6621628\n",
      "CFO Clerk - cosine similarity : 0.8193531\n",
      "CFO Coordinator - cosine similarity : 0.6671679\n",
      "CFO Supervisor - cosine similarity : 0.7405697\n",
      "CFO Bookkeeper - cosine similarity : 0.72997963\n",
      "CFO Specialist - cosine similarity : 0.7062051\n"
     ]
    }
   ],
   "source": [
    "for i in range(len(personas)):\n",
    "    print(personas[i]+\" - cosine similarity : \"+ str(personas_matching[0][i]))"
   ]
  },
  {
   "cell_type": "code",
   "execution_count": 31,
   "id": "bf994a2c",
   "metadata": {},
   "outputs": [
    {
     "data": {
      "text/plain": [
       "0.888129"
      ]
     },
     "execution_count": 31,
     "metadata": {},
     "output_type": "execute_result"
    }
   ],
   "source": [
    "personas_matching[0][0]"
   ]
  },
  {
   "cell_type": "code",
   "execution_count": 38,
   "id": "71d4652c",
   "metadata": {},
   "outputs": [],
   "source": [
    "input = [\"user persona\", \"action to be performed\",\"goals\"]"
   ]
  },
  {
   "cell_type": "code",
   "execution_count": 40,
   "id": "91f9a8f8",
   "metadata": {},
   "outputs": [
    {
     "data": {
      "text/plain": [
       "['user persona']"
      ]
     },
     "execution_count": 40,
     "metadata": {},
     "output_type": "execute_result"
    }
   ],
   "source": [
    "[input[0]]"
   ]
  },
  {
   "cell_type": "code",
   "execution_count": null,
   "id": "d00ed4e6",
   "metadata": {},
   "outputs": [],
   "source": []
  }
 ],
 "metadata": {
  "kernelspec": {
   "display_name": "Python 3 (ipykernel)",
   "language": "python",
   "name": "python3"
  },
  "language_info": {
   "codemirror_mode": {
    "name": "ipython",
    "version": 3
   },
   "file_extension": ".py",
   "mimetype": "text/x-python",
   "name": "python",
   "nbconvert_exporter": "python",
   "pygments_lexer": "ipython3",
   "version": "3.9.13"
  }
 },
 "nbformat": 4,
 "nbformat_minor": 5
}
