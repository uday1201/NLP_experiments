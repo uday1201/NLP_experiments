{
 "cells": [
  {
   "cell_type": "code",
   "execution_count": 59,
   "id": "71ba3a09",
   "metadata": {},
   "outputs": [],
   "source": [
    "import numpy as np"
   ]
  },
  {
   "cell_type": "code",
   "execution_count": 243,
   "id": "5d2d577e",
   "metadata": {},
   "outputs": [],
   "source": [
    "response = [{\n",
    "\"sentence\":\"easy question\",\n",
    "\"prediction\":0,\n",
    "\"label\":0,\n",
    "\"confidence\":[1.483478236411299,0.7938304524868727,0.9699787274003029]\n",
    "},\n",
    "{\n",
    "\"sentence\":\"clearly understandable\",\n",
    "\"prediction\":0,\n",
    "\"label\":0,\n",
    "\"confidence\":[1.1519104311508792,0.5054971780627966,0.9500161036849022]\n",
    "},\n",
    "{\n",
    "\"sentence\":\"question is not difficult\",\n",
    "\"prediction\":0,\n",
    "\"label\":0,\n",
    "\"confidence\":[1.352866193013532,0.9042842611670494,0.9036823349694412]\n",
    "},\n",
    "{\n",
    "\"sentence\":\"clearly explainable\",\n",
    "\"prediction\":0,\n",
    "\"label\":0,\n",
    "\"confidence\":[1.1476249636283944,0.38300278782844543,1.0976580468316872]\n",
    "},\n",
    "{\n",
    "\"sentence\":\"test questions before use\",\n",
    "\"prediction\":2,\n",
    "\"label\":0,\n",
    "\"confidence\":[0.5947636219539812,0.6718639669318993,1.0714865637322266]\n",
    "},\n",
    "{\n",
    "\"sentence\":\"open to interpretation\",\n",
    "\"prediction\":-1,\n",
    "\"label\":1,\n",
    "\"confidence\":[0.9867688151342529,0.6507854151229064,0.9378338046371937]\n",
    "},\n",
    "{\n",
    "\"sentence\":\"debateable question\",\n",
    "\"prediction\":2,\n",
    "\"label\":1,\n",
    "\"confidence\":[0.8556688888264554,0.8731499450902145,1.1405174502482016]\n",
    "},\n",
    "{\n",
    "\"sentence\":\"flexible question\",\n",
    "\"prediction\":0,\n",
    "\"label\":1,\n",
    "\"confidence\":[1.0799492932856083,0.9605756259212892,1.0022246955583494]\n",
    "},\n",
    "{\n",
    "\"sentence\":\"methodical question\",\n",
    "\"prediction\":0,\n",
    "\"label\":2,\n",
    "\"confidence\":[1.088201671306576,0.920253303522865,1.039361077050368]\n",
    "},\n",
    "{\n",
    "\"sentence\":\"effeciently arranged\",\n",
    "\"prediction\":0,\n",
    "\"label\":2,\n",
    "\"confidence\":[1.024825582280755,0.523139949887991,0.9589834523697693]\n",
    "},\n",
    "{\n",
    "\"sentence\":\"well- formed question\",\n",
    "\"prediction\":0,\n",
    "\"label\":2,\n",
    "\"confidence\":[1.2848919576832225,0.6278837273518245,1.2582576361795268]\n",
    "},\n",
    "{\n",
    "\"sentence\":\"give structured answers\",\n",
    "\"prediction\":2,\n",
    "\"label\":2,\n",
    "\"confidence\":[1.2518944809479373,0.6933178858210642,1.3855830505490303]\n",
    "},\n",
    "{\n",
    "\"sentence\":\"Nobody\",\n",
    "\"prediction\":1,\n",
    "\"label\":-1,\n",
    "\"confidence\":[0.4695698139922959,1.204032074039181,-0.013362056886156402]\n",
    "},\n",
    "{\n",
    "\"sentence\":\"useless\",\n",
    "\"prediction\":-1,\n",
    "\"label\":-1,\n",
    "\"confidence\":[0.43951583254550186,0.9990645696719487,-0.02766364331667622]\n",
    "},\n",
    "{\n",
    "\"sentence\":\"Universe\",\n",
    "\"prediction\":-1,\n",
    "\"label\":-1,\n",
    "\"confidence\":[0.20810177962162665,0.2693998708079259,0.27728972646097344]\n",
    "}]"
   ]
  },
  {
   "cell_type": "code",
   "execution_count": 214,
   "id": "02936f93",
   "metadata": {},
   "outputs": [],
   "source": [
    "# BCE\n",
    "response = [{\n",
    "\"sentence\":\"easy question\",\n",
    "\"prediction\":-1,\n",
    "\"label\":0,\n",
    "\"confidence\":[0.9516630821994373,1.3166277355048805,0.6032156565537056]\n",
    "},\n",
    "{\n",
    "\"sentence\":\"clearly understandable\",\n",
    "\"prediction\":0,\n",
    "\"label\":0,\n",
    "\"confidence\":[2.921941646507808,2.696151852607727,2.2353029089669385]\n",
    "},\n",
    "{\n",
    "\"sentence\":\"question is not difficult\",\n",
    "\"prediction\":-1,\n",
    "\"label\":0,\n",
    "\"confidence\":[1.5950723966317517,0.11253146221861243,0.1977597251534462]\n",
    "},\n",
    "{\n",
    "\"sentence\":\"clearly explainable\",\n",
    "\"prediction\":0,\n",
    "\"label\":0,\n",
    "\"confidence\":[2.8000208480017523,1.6063551269471645,2.0789237106218934]\n",
    "},\n",
    "{\n",
    "\"sentence\":\"test questions before use\",\n",
    "\"prediction\":0,\n",
    "\"label\":0,\n",
    "\"confidence\":[2.7219465225934982,1.7997848599916324,2.1647597731401524]\n",
    "},\n",
    "{\n",
    "\"sentence\":\"open to interpretation\",\n",
    "\"prediction\":0,\n",
    "\"label\":1,\n",
    "\"confidence\":[2.829384489783219,2.0422938133900366,2.5331665525833764]\n",
    "},\n",
    "{\n",
    "\"sentence\":\"debateable question\",\n",
    "\"prediction\":0,\n",
    "\"label\":1,\n",
    "\"confidence\":[2.3297275879553387,1.3306663418188691,2.222059954345847]\n",
    "},\n",
    "{\n",
    "\"sentence\":\"flexible question\",\n",
    "\"prediction\":2,\n",
    "\"label\":1,\n",
    "\"confidence\":[1.640539508845125,2.2749574842552343,2.6123546569918594]\n",
    "},\n",
    "{\n",
    "\"sentence\":\"methodical question\",\n",
    "\"prediction\":0,\n",
    "\"label\":2,\n",
    "\"confidence\":[2.728880277435694,1.2616980235713224,2.3192641188700995]\n",
    "},\n",
    "{\n",
    "\"sentence\":\"effeciently arranged\",\n",
    "\"prediction\":0,\n",
    "\"label\":2,\n",
    "\"confidence\":[2.7580409731183733,1.473601824293534,1.767042710756262]\n",
    "},\n",
    "{\n",
    "\"sentence\":\"well- formed question\",\n",
    "\"prediction\":-1,\n",
    "\"label\":2,\n",
    "\"confidence\":[1.3355496730655432,0.5832340834507098,1.3258734960108995]\n",
    "},\n",
    "{\n",
    "\"sentence\":\"give structured answers\",\n",
    "\"prediction\":-1,\n",
    "\"label\":2,\n",
    "\"confidence\":[1.5839770111654485,0.49546596097449463,1.5809505780537922]\n",
    "},\n",
    "{\n",
    "\"sentence\":\"Nobody\",\n",
    "\"prediction\":0,\n",
    "\"label\":-1,\n",
    "\"confidence\":[2.614252938755921,1.1297155140588682,2.0259333959159753]\n",
    "},\n",
    "{\n",
    "\"sentence\":\"useless\",\n",
    "\"prediction\":2,\n",
    "\"label\":-1,\n",
    "\"confidence\":[2.5147695440266813,2.044648963958025,2.546128546819091]\n",
    "},\n",
    "{\n",
    "\"sentence\":\"Universe\",\n",
    "\"prediction\":0,\n",
    "\"label\":-1,\n",
    "\"confidence\":[2.598990347768579,1.503423557151109,1.623251728170241]\n",
    "}]"
   ]
  },
  {
   "cell_type": "code",
   "execution_count": 215,
   "id": "654292ce",
   "metadata": {},
   "outputs": [
    {
     "name": "stdout",
     "output_type": "stream",
     "text": [
      "easy question\n",
      "1 0 1.3166277355048805\n",
      "clearly understandable\n",
      "0 0 2.921941646507808\n",
      "question is not difficult\n",
      "0 0 1.5950723966317517\n",
      "clearly explainable\n",
      "0 0 2.8000208480017523\n",
      "test questions before use\n",
      "0 0 2.7219465225934982\n",
      "open to interpretation\n",
      "0 1 2.829384489783219\n",
      "debateable question\n",
      "0 1 2.3297275879553387\n",
      "flexible question\n",
      "2 1 2.6123546569918594\n",
      "methodical question\n",
      "0 2 2.728880277435694\n",
      "effeciently arranged\n",
      "0 2 2.7580409731183733\n",
      "well- formed question\n",
      "0 2 1.3355496730655432\n",
      "give structured answers\n",
      "0 2 1.5839770111654485\n",
      "Nobody\n",
      "0 -1 2.614252938755921\n",
      "useless\n",
      "2 -1 2.546128546819091\n",
      "Universe\n",
      "0 -1 2.598990347768579\n"
     ]
    }
   ],
   "source": [
    "correct = []\n",
    "edge = []\n",
    "\n",
    "for r in response:\n",
    "    print(r[\"sentence\"])\n",
    "    print(r[\"confidence\"].index(max(r[\"confidence\"])),r['label'],max(r[\"confidence\"]))\n",
    "    if r[\"confidence\"].index(max(r[\"confidence\"]))==r['label']:\n",
    "        correct.append(max(r[\"confidence\"]))\n",
    "    if r[\"label\"] == -1:\n",
    "        edge.append(max(r[\"confidence\"]))"
   ]
  },
  {
   "cell_type": "code",
   "execution_count": 216,
   "id": "24f87e24",
   "metadata": {},
   "outputs": [
    {
     "data": {
      "text/plain": [
       "[2.921941646507808, 1.5950723966317517, 2.8000208480017523, 2.7219465225934982]"
      ]
     },
     "execution_count": 216,
     "metadata": {},
     "output_type": "execute_result"
    }
   ],
   "source": [
    "correct"
   ]
  },
  {
   "cell_type": "code",
   "execution_count": 217,
   "id": "e4104324",
   "metadata": {},
   "outputs": [
    {
     "data": {
      "text/plain": [
       "[2.614252938755921, 2.546128546819091, 2.598990347768579]"
      ]
     },
     "execution_count": 217,
     "metadata": {},
     "output_type": "execute_result"
    }
   ],
   "source": [
    "edge"
   ]
  },
  {
   "cell_type": "code",
   "execution_count": 218,
   "id": "bbec06c6",
   "metadata": {},
   "outputs": [
    {
     "data": {
      "text/plain": [
       "2.1046626676938365"
      ]
     },
     "execution_count": 218,
     "metadata": {},
     "output_type": "execute_result"
    }
   ],
   "source": [
    "(min(correct)+max(edge))/2"
   ]
  },
  {
   "cell_type": "code",
   "execution_count": 219,
   "id": "b8071217",
   "metadata": {},
   "outputs": [
    {
     "name": "stdout",
     "output_type": "stream",
     "text": [
      "Requirement already satisfied: sklearn in ./venv/lib/python3.9/site-packages (0.0)\n",
      "Requirement already satisfied: scikit-learn in ./venv/lib/python3.9/site-packages (from sklearn) (1.1.1)\n",
      "Requirement already satisfied: threadpoolctl>=2.0.0 in ./venv/lib/python3.9/site-packages (from scikit-learn->sklearn) (3.1.0)\n",
      "Requirement already satisfied: joblib>=1.0.0 in ./venv/lib/python3.9/site-packages (from scikit-learn->sklearn) (1.1.0)\n",
      "Requirement already satisfied: scipy>=1.3.2 in ./venv/lib/python3.9/site-packages (from scikit-learn->sklearn) (1.8.1)\n",
      "Requirement already satisfied: numpy>=1.17.3 in ./venv/lib/python3.9/site-packages (from scikit-learn->sklearn) (1.23.0)\n"
     ]
    }
   ],
   "source": [
    "!pip install -U sklearn"
   ]
  },
  {
   "cell_type": "code",
   "execution_count": 220,
   "id": "cab30609",
   "metadata": {},
   "outputs": [],
   "source": [
    "import matplotlib.pyplot as plt\n",
    "import numpy as np\n",
    "from sklearn.linear_model import LogisticRegression\n",
    "#from sklearn.inspection import DecisionBoundaryDisplay\n",
    "from sklearn.metrics import classification_report, confusion_matrix"
   ]
  },
  {
   "cell_type": "code",
   "execution_count": 250,
   "id": "9ee24a1a",
   "metadata": {},
   "outputs": [],
   "source": [
    "def threshold(response):\n",
    "    correct = []\n",
    "    edge = []\n",
    "\n",
    "    for r in response:\n",
    "        print(r[\"sentence\"])\n",
    "        print(r[\"confidence\"].index(max(r[\"confidence\"])),r['label'],max(r[\"confidence\"]))\n",
    "        if r[\"confidence\"].index(max(r[\"confidence\"]))==r['label']:\n",
    "            correct.append(max(r[\"confidence\"]))\n",
    "            for i in range(len(r[\"confidence\"])):\n",
    "                if i != r[\"confidence\"].index(max(r[\"confidence\"])):\n",
    "                    edge.append(r[\"confidence\"][i])\n",
    "        if r[\"label\"] == -1:\n",
    "            edge.append(max(r[\"confidence\"]))\n",
    "    print(correct, edge)\n",
    "    \n",
    "    tholds = correct+edge\n",
    "    y = [0 if i>=len(correct) else 1 for i in range(len(tholds))]\n",
    "    x = np.array(tholds).reshape(-1, 1)\n",
    "                                                       \n",
    "    print(x,y)\n",
    "    model = LogisticRegression(random_state=0, penalty='none')\n",
    "    model.fit(x, y)\n",
    "    print(-model.intercept_/model.coef_[0])\n",
    "    print(model.intercept_,model.coef_)\n",
    "    \n",
    "    return x,y, model\n",
    "    \n",
    "#     disp = DecisionBoundaryDisplay.from_estimator(model, x, response_method=\"threshold\",xlabel=x,alpha=0.5)\n",
    "#     disp.ax_.scatter(x, c=y, edgecolor=\"k\")\n",
    "#     plt.show()"
   ]
  },
  {
   "cell_type": "code",
   "execution_count": 251,
   "id": "1fb23603",
   "metadata": {},
   "outputs": [
    {
     "name": "stdout",
     "output_type": "stream",
     "text": [
      "easy question\n",
      "0 0 1.483478236411299\n",
      "clearly understandable\n",
      "0 0 1.1519104311508792\n",
      "question is not difficult\n",
      "0 0 1.352866193013532\n",
      "clearly explainable\n",
      "0 0 1.1476249636283944\n",
      "test questions before use\n",
      "2 0 1.0714865637322266\n",
      "open to interpretation\n",
      "0 1 0.9867688151342529\n",
      "debateable question\n",
      "2 1 1.1405174502482016\n",
      "flexible question\n",
      "0 1 1.0799492932856083\n",
      "methodical question\n",
      "0 2 1.088201671306576\n",
      "effeciently arranged\n",
      "0 2 1.024825582280755\n",
      "well- formed question\n",
      "0 2 1.2848919576832225\n",
      "give structured answers\n",
      "2 2 1.3855830505490303\n",
      "Nobody\n",
      "1 -1 1.204032074039181\n",
      "useless\n",
      "1 -1 0.9990645696719487\n",
      "Universe\n",
      "2 -1 0.27728972646097344\n",
      "[1.483478236411299, 1.1519104311508792, 1.352866193013532, 1.1476249636283944, 1.3855830505490303] [0.7938304524868727, 0.9699787274003029, 0.5054971780627966, 0.9500161036849022, 0.9042842611670494, 0.9036823349694412, 0.38300278782844543, 1.0976580468316872, 1.2518944809479373, 0.6933178858210642, 1.204032074039181, 0.9990645696719487, 0.27728972646097344]\n",
      "[[1.48347824]\n",
      " [1.15191043]\n",
      " [1.35286619]\n",
      " [1.14762496]\n",
      " [1.38558305]\n",
      " [0.79383045]\n",
      " [0.96997873]\n",
      " [0.50549718]\n",
      " [0.9500161 ]\n",
      " [0.90428426]\n",
      " [0.90368233]\n",
      " [0.38300279]\n",
      " [1.09765805]\n",
      " [1.25189448]\n",
      " [0.69331789]\n",
      " [1.20403207]\n",
      " [0.99906457]\n",
      " [0.27728973]] [1, 1, 1, 1, 1, 0, 0, 0, 0, 0, 0, 0, 0, 0, 0, 0, 0, 0]\n",
      "[1.20157938]\n",
      "[-16.0658718] [[13.37062879]]\n"
     ]
    }
   ],
   "source": [
    "x,y, model = threshold(response)"
   ]
  },
  {
   "cell_type": "code",
   "execution_count": 252,
   "id": "548fa5ce",
   "metadata": {},
   "outputs": [
    {
     "data": {
      "text/plain": [
       "array([[0.32490734, 0.67509266]])"
      ]
     },
     "execution_count": 252,
     "metadata": {},
     "output_type": "execute_result"
    }
   ],
   "source": [
    "model.predict_proba([[1.25627463]])"
   ]
  },
  {
   "cell_type": "code",
   "execution_count": 253,
   "id": "ed0df828",
   "metadata": {},
   "outputs": [
    {
     "data": {
      "text/plain": [
       "array([0, 1])"
      ]
     },
     "execution_count": 253,
     "metadata": {},
     "output_type": "execute_result"
    }
   ],
   "source": [
    "model.classes_"
   ]
  },
  {
   "cell_type": "code",
   "execution_count": 254,
   "id": "3b0c595b",
   "metadata": {},
   "outputs": [
    {
     "data": {
      "text/plain": [
       "2.0315648397425785"
      ]
     },
     "execution_count": 254,
     "metadata": {},
     "output_type": "execute_result"
    }
   ],
   "source": [
    "1.04608067/0.51491375"
   ]
  },
  {
   "cell_type": "code",
   "execution_count": 255,
   "id": "d8191e53",
   "metadata": {},
   "outputs": [
    {
     "data": {
      "text/plain": [
       "array([1, 0, 1, 0, 1, 0, 0, 0, 0, 0, 0, 0, 0, 1, 0, 1, 0, 0])"
      ]
     },
     "execution_count": 255,
     "metadata": {},
     "output_type": "execute_result"
    }
   ],
   "source": [
    "model.predict(x)"
   ]
  },
  {
   "cell_type": "code",
   "execution_count": 256,
   "id": "6f37d82d",
   "metadata": {},
   "outputs": [
    {
     "data": {
      "text/plain": [
       "0.7777777777777778"
      ]
     },
     "execution_count": 256,
     "metadata": {},
     "output_type": "execute_result"
    }
   ],
   "source": [
    "model.score(x, y)"
   ]
  },
  {
   "cell_type": "code",
   "execution_count": 210,
   "id": "b7543bb9",
   "metadata": {},
   "outputs": [
    {
     "data": {
      "text/plain": [
       "array([[11,  1],\n",
       "       [ 2,  3]])"
      ]
     },
     "execution_count": 210,
     "metadata": {},
     "output_type": "execute_result"
    }
   ],
   "source": [
    "confusion_matrix(y, model.predict(x))"
   ]
  },
  {
   "cell_type": "code",
   "execution_count": 211,
   "id": "ec986eb2",
   "metadata": {},
   "outputs": [
    {
     "data": {
      "image/png": "[encoded data removed]",
      "text/plain": [
       "<Figure size 576x576 with 1 Axes>"
      ]
     },
     "metadata": {
      "needs_background": "light"
     },
     "output_type": "display_data"
    }
   ],
   "source": [
    "cm = confusion_matrix(y, model.predict(x))\n",
    "\n",
    "fig, ax = plt.subplots(figsize=(8, 8))\n",
    "ax.imshow(cm)\n",
    "ax.grid(False)\n",
    "ax.xaxis.set(ticks=(0, 1), ticklabels=('Predicted 0s', 'Predicted 1s'))\n",
    "ax.yaxis.set(ticks=(0, 1), ticklabels=('Actual 0s', 'Actual 1s'))\n",
    "ax.set_ylim(1.5, -0.5)\n",
    "for i in range(2):\n",
    "    for j in range(2):\n",
    "        ax.text(j, i, cm[i, j], ha='center', va='center', color='red')\n",
    "plt.show()"
   ]
  },
  {
   "cell_type": "code",
   "execution_count": 174,
   "id": "2e3b0746",
   "metadata": {},
   "outputs": [
    {
     "name": "stdout",
     "output_type": "stream",
     "text": [
      "              precision    recall  f1-score   support\n",
      "\n",
      "           0       0.71      1.00      0.83        12\n",
      "           1       0.00      0.00      0.00         5\n",
      "\n",
      "    accuracy                           0.71        17\n",
      "   macro avg       0.35      0.50      0.41        17\n",
      "weighted avg       0.50      0.71      0.58        17\n",
      "\n"
     ]
    },
    {
     "name": "stderr",
     "output_type": "stream",
     "text": [
      "/opt/homebrew/lib/python3.9/site-packages/sklearn/metrics/_classification.py:1318: UndefinedMetricWarning: Precision and F-score are ill-defined and being set to 0.0 in labels with no predicted samples. Use `zero_division` parameter to control this behavior.\n",
      "  _warn_prf(average, modifier, msg_start, len(result))\n",
      "/opt/homebrew/lib/python3.9/site-packages/sklearn/metrics/_classification.py:1318: UndefinedMetricWarning: Precision and F-score are ill-defined and being set to 0.0 in labels with no predicted samples. Use `zero_division` parameter to control this behavior.\n",
      "  _warn_prf(average, modifier, msg_start, len(result))\n",
      "/opt/homebrew/lib/python3.9/site-packages/sklearn/metrics/_classification.py:1318: UndefinedMetricWarning: Precision and F-score are ill-defined and being set to 0.0 in labels with no predicted samples. Use `zero_division` parameter to control this behavior.\n",
      "  _warn_prf(average, modifier, msg_start, len(result))\n"
     ]
    }
   ],
   "source": [
    "print(classification_report(y, model.predict(x)))"
   ]
  },
  {
   "cell_type": "code",
   "execution_count": null,
   "id": "02a5293a",
   "metadata": {},
   "outputs": [],
   "source": []
  }
 ],
 "metadata": {
  "kernelspec": {
   "display_name": "Python 3 (ipykernel)",
   "language": "python",
   "name": "python3"
  },
  "language_info": {
   "codemirror_mode": {
    "name": "ipython",
    "version": 3
   },
   "file_extension": ".py",
   "mimetype": "text/x-python",
   "name": "python",
   "nbconvert_exporter": "python",
   "pygments_lexer": "ipython3",
   "version": "3.9.13"
  }
 },
 "nbformat": 4,
 "nbformat_minor": 5
}
