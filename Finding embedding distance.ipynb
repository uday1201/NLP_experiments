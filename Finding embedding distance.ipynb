{
 "cells": [
  {
   "cell_type": "code",
   "execution_count": 3,
   "id": "91dd9b99",
   "metadata": {},
   "outputs": [
    {
     "name": "stdout",
     "output_type": "stream",
     "text": [
      "[ 520 9748 9447 5825 4609]\n"
     ]
    }
   ],
   "source": [
    "import numpy as np\n",
    "N = 10000\n",
    "d = 10\n",
    "k = 5\n",
    "# create an array of N d-dimensional vectors (our search space)\n",
    "S = np.random.random((N, d)).astype('float32')"
   ]
  },
  {
   "cell_type": "code",
   "execution_count": null,
   "id": "197d6b0a",
   "metadata": {},
   "outputs": [],
   "source": [
    "# create a random d-dimensional query vector\n",
    "x = np.random.random(d)\n",
    "# compute distances\n",
    "distances = np.linalg.norm(S - x, axis = 1)\n",
    "# select indices of vectors having the lowest distances from the X\n",
    "neighbours = np.argpartition(distances, range(0, k))[:k]\n",
    "print(neighbours)"
   ]
  },
  {
   "cell_type": "code",
   "execution_count": 4,
   "id": "94809a54",
   "metadata": {},
   "outputs": [
    {
     "name": "stdout",
     "output_type": "stream",
     "text": [
      "[[ 520 9748 9447 5825 4609]]\n"
     ]
    }
   ],
   "source": [
    "from sklearn.neighbors import NearestNeighbors\n",
    "knn = NearestNeighbors(n_neighbors=k)\n",
    "knn.fit(S)\n",
    "# select indices of k nearest neighbours\n",
    "neighbours_knn = knn.kneighbors([x], return_distance = False)\n",
    "print(neighbours_knn)"
   ]
  },
  {
   "cell_type": "code",
   "execution_count": null,
   "id": "f4629e93",
   "metadata": {},
   "outputs": [],
   "source": []
  },
  {
   "cell_type": "code",
   "execution_count": null,
   "id": "4b21bbd8",
   "metadata": {},
   "outputs": [],
   "source": []
  }
 ],
 "metadata": {
  "kernelspec": {
   "display_name": "Python 3 (ipykernel)",
   "language": "python",
   "name": "python3"
  },
  "language_info": {
   "codemirror_mode": {
    "name": "ipython",
    "version": 3
   },
   "file_extension": ".py",
   "mimetype": "text/x-python",
   "name": "python",
   "nbconvert_exporter": "python",
   "pygments_lexer": "ipython3",
   "version": "3.9.13"
  }
 },
 "nbformat": 4,
 "nbformat_minor": 5
}
