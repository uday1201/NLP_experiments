{
 "cells": [
  {
   "cell_type": "code",
   "execution_count": 1,
   "id": "5d1cddaf",
   "metadata": {},
   "outputs": [],
   "source": [
    "import math\n",
    "import re\n",
    "from collections import Counter\n",
    "import numpy as np\n",
    "\n",
    "WORD = re.compile(r\"\\w+\")"
   ]
  },
  {
   "cell_type": "code",
   "execution_count": 2,
   "id": "ef745d66",
   "metadata": {},
   "outputs": [],
   "source": [
    "#!pip install gensim\n",
    "import gensim\n",
    "from gensim.models import Word2Vec, KeyedVectors\n",
    "from gensim import utils"
   ]
  },
  {
   "cell_type": "code",
   "execution_count": 3,
   "id": "f63f8899",
   "metadata": {},
   "outputs": [
    {
     "name": "stdout",
     "output_type": "stream",
     "text": [
      "[('teachers', 0.7878414392471313), ('educator', 0.7609371542930603), ('Teacher', 0.7341679334640503), ('student', 0.7071879506111145), ('pupil', 0.7035911083221436), ('schoolteacher', 0.7021130919456482), ('school', 0.6894515156745911), ('classroom', 0.6704408526420593), ('instructor', 0.6594053506851196), ('professor', 0.6570422649383545)]\n",
      "0.39710766\n"
     ]
    }
   ],
   "source": [
    "model = KeyedVectors.load_word2vec_format(\"wiki-news-300d-1M.vec\")\n",
    "\n",
    "print(model.most_similar('teacher'))\n",
    "# Output = [('headteacher', 0.8075869083404541), ('schoolteacher', 0.7955552339553833), ('teachers', 0.733420729637146), ('teaches', 0.6839243173599243), ('meacher', 0.6825737357139587), ('teach', 0.6285147070884705), ('taught', 0.6244685649871826), ('teaching', 0.6199781894683838), ('schoolmaster', 0.6037642955780029), ('lessons', 0.5812176465988159)]\n",
    "\n",
    "print(model.similarity('teacher', 'teaches'))\n",
    "# Output = 0.683924396754"
   ]
  },
  {
   "cell_type": "code",
   "execution_count": 4,
   "id": "ccf7b3f9",
   "metadata": {},
   "outputs": [],
   "source": [
    "from scipy import spatial\n",
    "\n",
    "def get_cosine(vec1, vec2):\n",
    "    return float(1 - spatial.distance.cosine(vec1, vec2))"
   ]
  },
  {
   "cell_type": "code",
   "execution_count": 5,
   "id": "00c6048b",
   "metadata": {},
   "outputs": [],
   "source": [
    "def text_to_vector(word2vec_model, text):\n",
    "    # remove out-of-vocabulary words\n",
    "    for t in text:\n",
    "        t = [word for word in t.split(\" \") if word in word2vec_model.index_to_key]\n",
    "        return np.mean(word2vec_model[text], axis=0)"
   ]
  },
  {
   "cell_type": "code",
   "execution_count": null,
   "id": "5215c5d4",
   "metadata": {},
   "outputs": [],
   "source": [
    "def text_to_vector(word2vec_model, text):\n",
    "    # remove out-of-vocabulary words\n",
    "    word_mean = []\n",
    "    for t in text:\n",
    "        t = [word for word in t.split(\" \") if word in word2vec_model.index_to_key]\n",
    "        word_mean.append(np.mean(word2vec_model[t], axis=0))\n",
    "    return np.mean(word_mean)"
   ]
  },
  {
   "cell_type": "markdown",
   "id": "60c915db",
   "metadata": {},
   "source": [
    "# Revenue Question responses"
   ]
  },
  {
   "cell_type": "code",
   "execution_count": 6,
   "id": "766581dc",
   "metadata": {},
   "outputs": [],
   "source": [
    "class1 = [\"Monthly fee\",\"Fee per user\",\"Charge\",\"Cost\",\"Average revenue per user\"]\n",
    "class2 = [\"users\",\"Subscribers\",\"Customers\",\"clients\",\"patrons\",\"payees\",\"members\"]\n",
    "class3 = [\"Average customer lifetime\",\"Customer lifespan\",\"Duration of subscription\",\"Churn\",\"Attrition\"]\n",
    "negatives = [\"Total revenue\",\"Recurring revenue\",\"Profits\",\"Annual recurring revenue\",\"Total income\",\"Margins\",\"Monthly\",\"recurring revenue\"]"
   ]
  },
  {
   "cell_type": "markdown",
   "id": "8927dc82",
   "metadata": {},
   "source": [
    "# Interview Question responses"
   ]
  },
  {
   "cell_type": "code",
   "execution_count": null,
   "id": "afb886b4",
   "metadata": {},
   "outputs": [],
   "source": [
    "class1 = [\"Make sure questions are easy to understand\",\"Make sure questions are easy to direct\",\"Make sure questions are easy to straightforward\",\"Use short questions\",\"Use succinct questions\",\"Use clear questions\",\"Avoid questions that are too long\"]\n",
    "class2 = [\"Keep questions open ended\",\"Do not ask yes/no questions\",\"Do not ask closed questions\",\"Do not ask leading questions\",\"Avoid questions that suggest the answer you want\",\"Don't ask directly what they want\"]\n",
    "class3 = [\"Have a logical structure to the questions\",\"Questions should flow from one to the other\",\"Questions should be sequenced in a natural way\",\"Warm up before going into the detailed questions\",\"Start with some easier questions to help them relax\",\"Prepare your questions beforehand\"]"
   ]
  },
  {
   "cell_type": "code",
   "execution_count": 7,
   "id": "4998df5d",
   "metadata": {},
   "outputs": [
    {
     "ename": "KeyError",
     "evalue": "\"Key 'Monthly fee' not present\"",
     "output_type": "error",
     "traceback": [
      "\u001b[0;31m---------------------------------------------------------------------------\u001b[0m",
      "\u001b[0;31mKeyError\u001b[0m                                  Traceback (most recent call last)",
      "Input \u001b[0;32mIn [7]\u001b[0m, in \u001b[0;36m<cell line: 1>\u001b[0;34m()\u001b[0m\n\u001b[0;32m----> 1\u001b[0m vector1 \u001b[38;5;241m=\u001b[39m \u001b[43mtext_to_vector\u001b[49m\u001b[43m(\u001b[49m\u001b[43mmodel\u001b[49m\u001b[43m,\u001b[49m\u001b[43mclass1\u001b[49m\u001b[43m)\u001b[49m\n\u001b[1;32m      2\u001b[0m vector2 \u001b[38;5;241m=\u001b[39m text_to_vector(model,class2)\n\u001b[1;32m      3\u001b[0m vector3 \u001b[38;5;241m=\u001b[39m text_to_vector(model,class3)\n",
      "Input \u001b[0;32mIn [5]\u001b[0m, in \u001b[0;36mtext_to_vector\u001b[0;34m(word2vec_model, text)\u001b[0m\n\u001b[1;32m      3\u001b[0m \u001b[38;5;28;01mfor\u001b[39;00m t \u001b[38;5;129;01min\u001b[39;00m text:\n\u001b[1;32m      4\u001b[0m     t \u001b[38;5;241m=\u001b[39m [word \u001b[38;5;28;01mfor\u001b[39;00m word \u001b[38;5;129;01min\u001b[39;00m t\u001b[38;5;241m.\u001b[39msplit(\u001b[38;5;124m\"\u001b[39m\u001b[38;5;124m \u001b[39m\u001b[38;5;124m\"\u001b[39m) \u001b[38;5;28;01mif\u001b[39;00m word \u001b[38;5;129;01min\u001b[39;00m word2vec_model\u001b[38;5;241m.\u001b[39mindex_to_key]\n\u001b[0;32m----> 5\u001b[0m     \u001b[38;5;28;01mreturn\u001b[39;00m np\u001b[38;5;241m.\u001b[39mmean(\u001b[43mword2vec_model\u001b[49m\u001b[43m[\u001b[49m\u001b[43mtext\u001b[49m\u001b[43m]\u001b[49m, axis\u001b[38;5;241m=\u001b[39m\u001b[38;5;241m0\u001b[39m)\n",
      "File \u001b[0;32m/opt/homebrew/lib/python3.9/site-packages/gensim/models/keyedvectors.py:406\u001b[0m, in \u001b[0;36mKeyedVectors.__getitem__\u001b[0;34m(self, key_or_keys)\u001b[0m\n\u001b[1;32m    403\u001b[0m \u001b[38;5;28;01mif\u001b[39;00m \u001b[38;5;28misinstance\u001b[39m(key_or_keys, _KEY_TYPES):\n\u001b[1;32m    404\u001b[0m     \u001b[38;5;28;01mreturn\u001b[39;00m \u001b[38;5;28mself\u001b[39m\u001b[38;5;241m.\u001b[39mget_vector(key_or_keys)\n\u001b[0;32m--> 406\u001b[0m \u001b[38;5;28;01mreturn\u001b[39;00m vstack([\u001b[38;5;28mself\u001b[39m\u001b[38;5;241m.\u001b[39mget_vector(key) \u001b[38;5;28;01mfor\u001b[39;00m key \u001b[38;5;129;01min\u001b[39;00m key_or_keys])\n",
      "File \u001b[0;32m/opt/homebrew/lib/python3.9/site-packages/gensim/models/keyedvectors.py:406\u001b[0m, in \u001b[0;36m<listcomp>\u001b[0;34m(.0)\u001b[0m\n\u001b[1;32m    403\u001b[0m \u001b[38;5;28;01mif\u001b[39;00m \u001b[38;5;28misinstance\u001b[39m(key_or_keys, _KEY_TYPES):\n\u001b[1;32m    404\u001b[0m     \u001b[38;5;28;01mreturn\u001b[39;00m \u001b[38;5;28mself\u001b[39m\u001b[38;5;241m.\u001b[39mget_vector(key_or_keys)\n\u001b[0;32m--> 406\u001b[0m \u001b[38;5;28;01mreturn\u001b[39;00m vstack([\u001b[38;5;28;43mself\u001b[39;49m\u001b[38;5;241;43m.\u001b[39;49m\u001b[43mget_vector\u001b[49m\u001b[43m(\u001b[49m\u001b[43mkey\u001b[49m\u001b[43m)\u001b[49m \u001b[38;5;28;01mfor\u001b[39;00m key \u001b[38;5;129;01min\u001b[39;00m key_or_keys])\n",
      "File \u001b[0;32m/opt/homebrew/lib/python3.9/site-packages/gensim/models/keyedvectors.py:447\u001b[0m, in \u001b[0;36mKeyedVectors.get_vector\u001b[0;34m(self, key, norm)\u001b[0m\n\u001b[1;32m    423\u001b[0m \u001b[38;5;28;01mdef\u001b[39;00m \u001b[38;5;21mget_vector\u001b[39m(\u001b[38;5;28mself\u001b[39m, key, norm\u001b[38;5;241m=\u001b[39m\u001b[38;5;28;01mFalse\u001b[39;00m):\n\u001b[1;32m    424\u001b[0m     \u001b[38;5;124;03m\"\"\"Get the key's vector, as a 1D numpy array.\u001b[39;00m\n\u001b[1;32m    425\u001b[0m \n\u001b[1;32m    426\u001b[0m \u001b[38;5;124;03m    Parameters\u001b[39;00m\n\u001b[0;32m   (...)\u001b[0m\n\u001b[1;32m    445\u001b[0m \n\u001b[1;32m    446\u001b[0m \u001b[38;5;124;03m    \"\"\"\u001b[39;00m\n\u001b[0;32m--> 447\u001b[0m     index \u001b[38;5;241m=\u001b[39m \u001b[38;5;28;43mself\u001b[39;49m\u001b[38;5;241;43m.\u001b[39;49m\u001b[43mget_index\u001b[49m\u001b[43m(\u001b[49m\u001b[43mkey\u001b[49m\u001b[43m)\u001b[49m\n\u001b[1;32m    448\u001b[0m     \u001b[38;5;28;01mif\u001b[39;00m norm:\n\u001b[1;32m    449\u001b[0m         \u001b[38;5;28mself\u001b[39m\u001b[38;5;241m.\u001b[39mfill_norms()\n",
      "File \u001b[0;32m/opt/homebrew/lib/python3.9/site-packages/gensim/models/keyedvectors.py:421\u001b[0m, in \u001b[0;36mKeyedVectors.get_index\u001b[0;34m(self, key, default)\u001b[0m\n\u001b[1;32m    419\u001b[0m     \u001b[38;5;28;01mreturn\u001b[39;00m default\n\u001b[1;32m    420\u001b[0m \u001b[38;5;28;01melse\u001b[39;00m:\n\u001b[0;32m--> 421\u001b[0m     \u001b[38;5;28;01mraise\u001b[39;00m \u001b[38;5;167;01mKeyError\u001b[39;00m(\u001b[38;5;124mf\u001b[39m\u001b[38;5;124m\"\u001b[39m\u001b[38;5;124mKey \u001b[39m\u001b[38;5;124m'\u001b[39m\u001b[38;5;132;01m{\u001b[39;00mkey\u001b[38;5;132;01m}\u001b[39;00m\u001b[38;5;124m'\u001b[39m\u001b[38;5;124m not present\u001b[39m\u001b[38;5;124m\"\u001b[39m)\n",
      "\u001b[0;31mKeyError\u001b[0m: \"Key 'Monthly fee' not present\""
     ]
    }
   ],
   "source": [
    "vector1 = text_to_vector(model,class1)\n",
    "vector2 = text_to_vector(model,class2)\n",
    "vector3 = text_to_vector(model,class3)\n",
    "#vectorneg = text_to_vector(model,negatives)\n",
    "print(vector1)"
   ]
  },
  {
   "cell_type": "code",
   "execution_count": null,
   "id": "55ab1c8f",
   "metadata": {},
   "outputs": [],
   "source": [
    "exstr = \"questions are easy\"\n",
    "example = text_to_vector(model,[exstr])"
   ]
  },
  {
   "cell_type": "code",
   "execution_count": null,
   "id": "0f3f3a6c",
   "metadata": {},
   "outputs": [],
   "source": [
    "print(get_cosine(vector1,example))\n",
    "print(get_cosine(vector2,example))\n",
    "print(get_cosine(vector3,example))\n",
    "#print(get_cosine(vectorneg,example))"
   ]
  },
  {
   "cell_type": "code",
   "execution_count": null,
   "id": "3368a7a4",
   "metadata": {},
   "outputs": [],
   "source": [
    "print(model.similarity(\"patrons\", 'payees'))"
   ]
  },
  {
   "cell_type": "code",
   "execution_count": null,
   "id": "c122ca7d",
   "metadata": {},
   "outputs": [],
   "source": []
  }
 ],
 "metadata": {
  "kernelspec": {
   "display_name": "Python 3 (ipykernel)",
   "language": "python",
   "name": "python3"
  },
  "language_info": {
   "codemirror_mode": {
    "name": "ipython",
    "version": 3
   },
   "file_extension": ".py",
   "mimetype": "text/x-python",
   "name": "python",
   "nbconvert_exporter": "python",
   "pygments_lexer": "ipython3",
   "version": "3.8.12"
  }
 },
 "nbformat": 4,
 "nbformat_minor": 5
}
