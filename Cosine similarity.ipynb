{
 "cells": [
  {
   "cell_type": "code",
   "execution_count": 12,
   "id": "5d1cddaf",
   "metadata": {},
   "outputs": [],
   "source": [
    "import math\n",
    "import re\n",
    "from collections import Counter\n",
    "import numpy as np\n",
    "\n",
    "WORD = re.compile(r\"\\w+\")"
   ]
  },
  {
   "cell_type": "code",
   "execution_count": 3,
   "id": "ef745d66",
   "metadata": {},
   "outputs": [],
   "source": [
    "#!pip install gensim\n",
    "import gensim\n",
    "from gensim.models import Word2Vec, KeyedVectors\n",
    "from gensim import utils"
   ]
  },
  {
   "cell_type": "code",
   "execution_count": 4,
   "id": "f63f8899",
   "metadata": {},
   "outputs": [
    {
     "name": "stdout",
     "output_type": "stream",
     "text": [
      "[('teachers', 0.7878414392471313), ('educator', 0.7609371542930603), ('Teacher', 0.7341679334640503), ('student', 0.7071879506111145), ('pupil', 0.7035911083221436), ('schoolteacher', 0.7021130919456482), ('school', 0.6894515156745911), ('classroom', 0.6704408526420593), ('instructor', 0.6594053506851196), ('professor', 0.6570422649383545)]\n",
      "0.39710766\n"
     ]
    }
   ],
   "source": [
    "model = KeyedVectors.load_word2vec_format(\"wiki-news-300d-1M.vec\")\n",
    "\n",
    "print(model.most_similar('teacher'))\n",
    "# Output = [('headteacher', 0.8075869083404541), ('schoolteacher', 0.7955552339553833), ('teachers', 0.733420729637146), ('teaches', 0.6839243173599243), ('meacher', 0.6825737357139587), ('teach', 0.6285147070884705), ('taught', 0.6244685649871826), ('teaching', 0.6199781894683838), ('schoolmaster', 0.6037642955780029), ('lessons', 0.5812176465988159)]\n",
    "\n",
    "print(model.similarity('teacher', 'teaches'))\n",
    "# Output = 0.683924396754"
   ]
  },
  {
   "cell_type": "code",
   "execution_count": 29,
   "id": "ccf7b3f9",
   "metadata": {},
   "outputs": [],
   "source": [
    "from scipy import spatial\n",
    "\n",
    "def get_cosine(vec1, vec2):\n",
    "    return float(1 - spatial.distance.cosine(vec1, vec2))"
   ]
  },
  {
   "cell_type": "code",
   "execution_count": 14,
   "id": "00c6048b",
   "metadata": {},
   "outputs": [],
   "source": [
    "def text_to_vector(word2vec_model, text):\n",
    "    # remove out-of-vocabulary words\n",
    "    text = [word for word in text if word in word2vec_model.index_to_key]\n",
    "    return np.mean(word2vec_model[text], axis=0)"
   ]
  },
  {
   "cell_type": "code",
   "execution_count": 15,
   "id": "766581dc",
   "metadata": {},
   "outputs": [],
   "source": [
    "class1 = [\"Monthly fee\",\"Fee per user\",\"Charge\",\"Cost\",\"Average revenue per user\"]\n",
    "class2 = [\"users\",\"Subscribers\",\"Customers\",\"clients\",\"patrons\",\"payees\",\"members\"]\n",
    "class3 = [\"Average customer lifetime\",\"Customer lifespan\",\"Duration of subscription\",\"Churn\",\"Attrition\"]\n",
    "negatives = [\"Total revenue\",\"Recurring revenue\",\"Profits\",\"Annual recurring revenue\",\"Total income\",\"Margins\",\"Monthly\",\"recurring revenue\"]"
   ]
  },
  {
   "cell_type": "code",
   "execution_count": 17,
   "id": "4998df5d",
   "metadata": {},
   "outputs": [],
   "source": [
    "vector1 = text_to_vector(model,class1)\n",
    "vector2 = text_to_vector(model,class2)\n",
    "vector3 = text_to_vector(model,class3)\n",
    "vectorneg = text_to_vector(model,negatives)"
   ]
  },
  {
   "cell_type": "code",
   "execution_count": 53,
   "id": "d5cecced",
   "metadata": {},
   "outputs": [],
   "source": [
    "example = text_to_vector(model,[\"follower\"])"
   ]
  },
  {
   "cell_type": "code",
   "execution_count": 54,
   "id": "0f3f3a6c",
   "metadata": {},
   "outputs": [
    {
     "name": "stdout",
     "output_type": "stream",
     "text": [
      "0.3136974573135376\n",
      "0.3933585584163666\n",
      "0.21192753314971924\n",
      "0.2766002416610718\n"
     ]
    }
   ],
   "source": [
    "print(get_cosine(vector1,example))\n",
    "print(get_cosine(vector2,example))\n",
    "print(get_cosine(vector3,example))\n",
    "print(get_cosine(vectorneg,example))"
   ]
  },
  {
   "cell_type": "code",
   "execution_count": 45,
   "id": "3368a7a4",
   "metadata": {},
   "outputs": [
    {
     "name": "stdout",
     "output_type": "stream",
     "text": [
      "0.28441134\n"
     ]
    }
   ],
   "source": [
    "print(model.similarity(\"patrons\", 'payees'))"
   ]
  },
  {
   "cell_type": "code",
   "execution_count": null,
   "id": "c122ca7d",
   "metadata": {},
   "outputs": [],
   "source": []
  }
 ],
 "metadata": {
  "kernelspec": {
   "display_name": "Python 3 (ipykernel)",
   "language": "python",
   "name": "python3"
  },
  "language_info": {
   "codemirror_mode": {
    "name": "ipython",
    "version": 3
   },
   "file_extension": ".py",
   "mimetype": "text/x-python",
   "name": "python",
   "nbconvert_exporter": "python",
   "pygments_lexer": "ipython3",
   "version": "3.9.13"
  }
 },
 "nbformat": 4,
 "nbformat_minor": 5
}
