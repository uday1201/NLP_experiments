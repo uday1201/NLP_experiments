{
 "cells": [
  {
   "cell_type": "code",
   "execution_count": 23,
   "id": "1f57c6be",
   "metadata": {},
   "outputs": [],
   "source": [
    "#!pip install spacy\n",
    "#!python3 -m spacy download en_core_web_sm\n",
    "import spacy\n",
    "#nlp=spacy.load(\"en_core_web_sm\")\n",
    "#nlp.pipe_names"
   ]
  },
  {
   "cell_type": "code",
   "execution_count": 44,
   "id": "9d987fd1",
   "metadata": {},
   "outputs": [
    {
     "data": {
      "text/plain": [
       "[]"
      ]
     },
     "execution_count": 44,
     "metadata": {},
     "output_type": "execute_result"
    }
   ],
   "source": [
    "nlp = spacy.blank('en')\n",
    "nlp.pipe_names"
   ]
  },
  {
   "cell_type": "code",
   "execution_count": 45,
   "id": "4e841e9c",
   "metadata": {},
   "outputs": [
    {
     "data": {
      "text/plain": [
       "['textcat']"
      ]
     },
     "execution_count": 45,
     "metadata": {},
     "output_type": "execute_result"
    }
   ],
   "source": [
    "import en_core_web_sm\n",
    "#from spacy.pipeline import textcat\n",
    "from spacy.pipeline.textcat_multilabel import DEFAULT_MULTI_TEXTCAT_MODEL\n",
    "config = {\n",
    "   \"threshold\": 0.5,\n",
    "   \"model\": DEFAULT_MULTI_TEXTCAT_MODEL,\n",
    "}\n",
    "\n",
    "#nlp = en_core_web_sm.load() # or nlp=spacy.load(\"en_core_web_sm\")\n",
    "\n",
    "config = Config().from_str(single_label_cnn_config)\n",
    "if \"textcat\" not in nlp.pipe_names:\n",
    "     textcat = nlp.add_pipe('textcat', config=config, last=True)\n",
    "\n",
    "nlp.pipe_names"
   ]
  },
  {
   "cell_type": "code",
   "execution_count": 46,
   "id": "3d4515b8",
   "metadata": {},
   "outputs": [
    {
     "data": {
      "text/plain": [
       "1"
      ]
     },
     "execution_count": 46,
     "metadata": {},
     "output_type": "execute_result"
    }
   ],
   "source": [
    "# Adding the labels to textcat\n",
    "textcat.add_label(\"class1\")\n",
    "textcat.add_label(\"class2\")\n",
    "textcat.add_label(\"class3\")\n",
    "textcat.add_label(\"classneg\")"
   ]
  },
  {
   "cell_type": "code",
   "execution_count": 47,
   "id": "2885dcf9",
   "metadata": {},
   "outputs": [],
   "source": [
    "train = [\n",
    "    (\"users\", 0),\n",
    "    (\"Subscribers\",0),\n",
    "    (\"Customers\",0),\n",
    "    (\"clients\",0),\n",
    "    (\"patrons\",0),\n",
    "    (\"payees\",0),\n",
    "    (\"members\",0),\n",
    "    (\"Average customer lifetime\",1),\n",
    "    (\"Customer lifespan\",1),\n",
    "    (\"Duration of subscription\",1),\n",
    "    (\"Churn\",1),\n",
    "    (\"Attrition\",1),\n",
    "    (\"Monthly fee\",2),\n",
    "    (\"Fee per user\",2),\n",
    "    (\"Charge\",2),\n",
    "    (\"Cost\",2),\n",
    "    (\"Average revenue per user\",2),\n",
    "    (\"Total revenue\",3),\n",
    "    (\"Recurring revenue\",3),\n",
    "    (\"Profits\",3),\n",
    "    (\"Annual recurring revenue\",3),\n",
    "    (\"Total income\",3),\n",
    "    (\"Margins\",3),\n",
    "    (\"Monthly\",3),\n",
    "    (\"recurring revenue\",3)\n",
    "]"
   ]
  },
  {
   "cell_type": "code",
   "execution_count": 48,
   "id": "c1d5113c",
   "metadata": {},
   "outputs": [
    {
     "data": {
      "text/plain": [
       "[('patrons',\n",
       "  {'cats': {'class1': False,\n",
       "    'class2': True,\n",
       "    'class3': False,\n",
       "    'classneg': False}}),\n",
       " ('clients',\n",
       "  {'cats': {'class1': False,\n",
       "    'class2': True,\n",
       "    'class3': False,\n",
       "    'classneg': False}}),\n",
       " ('Total income',\n",
       "  {'cats': {'class1': False,\n",
       "    'class2': False,\n",
       "    'class3': False,\n",
       "    'classneg': True}}),\n",
       " ('Recurring revenue',\n",
       "  {'cats': {'class1': False,\n",
       "    'class2': False,\n",
       "    'class3': False,\n",
       "    'classneg': True}}),\n",
       " ('Attrition',\n",
       "  {'cats': {'class1': False,\n",
       "    'class2': False,\n",
       "    'class3': True,\n",
       "    'classneg': False}}),\n",
       " ('Customer lifespan',\n",
       "  {'cats': {'class1': False,\n",
       "    'class2': False,\n",
       "    'class3': True,\n",
       "    'classneg': False}}),\n",
       " ('Duration of subscription',\n",
       "  {'cats': {'class1': False,\n",
       "    'class2': False,\n",
       "    'class3': True,\n",
       "    'classneg': False}}),\n",
       " ('payees',\n",
       "  {'cats': {'class1': False,\n",
       "    'class2': True,\n",
       "    'class3': False,\n",
       "    'classneg': False}}),\n",
       " ('users',\n",
       "  {'cats': {'class1': False,\n",
       "    'class2': True,\n",
       "    'class3': False,\n",
       "    'classneg': False}}),\n",
       " ('Fee per user',\n",
       "  {'cats': {'class1': True,\n",
       "    'class2': False,\n",
       "    'class3': False,\n",
       "    'classneg': False}}),\n",
       " ('Cost',\n",
       "  {'cats': {'class1': True,\n",
       "    'class2': False,\n",
       "    'class3': False,\n",
       "    'classneg': False}}),\n",
       " ('Annual recurring revenue',\n",
       "  {'cats': {'class1': False,\n",
       "    'class2': False,\n",
       "    'class3': False,\n",
       "    'classneg': True}}),\n",
       " ('Profits',\n",
       "  {'cats': {'class1': False,\n",
       "    'class2': False,\n",
       "    'class3': False,\n",
       "    'classneg': True}}),\n",
       " ('Margins',\n",
       "  {'cats': {'class1': False,\n",
       "    'class2': False,\n",
       "    'class3': False,\n",
       "    'classneg': True}}),\n",
       " ('Charge',\n",
       "  {'cats': {'class1': True,\n",
       "    'class2': False,\n",
       "    'class3': False,\n",
       "    'classneg': False}}),\n",
       " ('Subscribers',\n",
       "  {'cats': {'class1': False,\n",
       "    'class2': True,\n",
       "    'class3': False,\n",
       "    'classneg': False}}),\n",
       " ('Average customer lifetime',\n",
       "  {'cats': {'class1': False,\n",
       "    'class2': False,\n",
       "    'class3': True,\n",
       "    'classneg': False}}),\n",
       " ('Average revenue per user',\n",
       "  {'cats': {'class1': True,\n",
       "    'class2': False,\n",
       "    'class3': False,\n",
       "    'classneg': False}}),\n",
       " ('Total revenue',\n",
       "  {'cats': {'class1': False,\n",
       "    'class2': False,\n",
       "    'class3': False,\n",
       "    'classneg': True}}),\n",
       " ('Churn',\n",
       "  {'cats': {'class1': False,\n",
       "    'class2': False,\n",
       "    'class3': True,\n",
       "    'classneg': False}}),\n",
       " ('Customers',\n",
       "  {'cats': {'class1': False,\n",
       "    'class2': True,\n",
       "    'class3': False,\n",
       "    'classneg': False}}),\n",
       " ('Monthly fee',\n",
       "  {'cats': {'class1': True,\n",
       "    'class2': False,\n",
       "    'class3': False,\n",
       "    'classneg': False}})]"
      ]
     },
     "execution_count": 48,
     "metadata": {},
     "output_type": "execute_result"
    }
   ],
   "source": [
    "import random\n",
    "\n",
    "def load_data(limit=0, split=0.9):\n",
    "    train_data=train\n",
    "    # Shuffle the data\n",
    "    random.shuffle(train_data)\n",
    "    texts, labels = zip(*train_data)\n",
    "    # get the categories for each review\n",
    "    cats = [{\"class1\": y==2, \"class2\": y==0, \"class3\": y==1, \"classneg\": y==3} for y in labels]\n",
    "\n",
    "    # Splitting the training and evaluation data\n",
    "    split = int(len(train_data) * split)\n",
    "    return (texts[:split], cats[:split]), (texts[split:], cats[split:])\n",
    "\n",
    "\n",
    "# Calling the load_data() function \n",
    "(train_texts, train_cats), (dev_texts, dev_cats) = load_data()\n",
    "\n",
    "# Processing the final format of training data\n",
    "train_data = list(zip(train_texts,[{'cats': cats} for cats in train_cats]))\n",
    "train_data"
   ]
  },
  {
   "cell_type": "code",
   "execution_count": 49,
   "id": "c868ece5",
   "metadata": {},
   "outputs": [],
   "source": [
    "from spacy.util import minibatch, compounding\n",
    "from spacy.training.example import Example\n",
    "\n",
    "\n",
    "n_iter=10\n",
    "\n",
    "# Disabling other components\n",
    "other_pipes = [pipe for pipe in nlp.pipe_names if pipe != 'textcat']\n",
    "with nlp.disable_pipes(*other_pipes):  # only train textcat\n",
    "    optimizer = nlp.begin_training()\n",
    "\n",
    "    # Performing training\n",
    "    for i in range(n_iter):\n",
    "        losses = {}\n",
    "        batches = minibatch(train_data, size=compounding(4., 32., 1.001))\n",
    "        for batch in batches:\n",
    "            texts, annotations = zip(*batch)\n",
    "            example = []\n",
    "            # Update the model with iterating each text\n",
    "            for i in range(len(texts)):\n",
    "                doc = nlp.make_doc(texts[i])\n",
    "                example.append(Example.from_dict(doc, annotations[i]))\n",
    "            nlp.update(example, drop=0.5, losses=losses)"
   ]
  },
  {
   "cell_type": "code",
   "execution_count": 50,
   "id": "c1ba2880",
   "metadata": {},
   "outputs": [
    {
     "data": {
      "text/plain": [
       "{'class1': 0.1205315813422203,\n",
       " 'class2': 0.6422814726829529,\n",
       " 'class3': 0.14970755577087402,\n",
       " 'classneg': 0.08747939765453339}"
      ]
     },
     "execution_count": 50,
     "metadata": {},
     "output_type": "execute_result"
    }
   ],
   "source": [
    "# Testing the model\n",
    "test_text=\"follower\"\n",
    "doc=nlp(test_text)\n",
    "doc.cats "
   ]
  },
  {
   "cell_type": "code",
   "execution_count": null,
   "id": "1157b020",
   "metadata": {},
   "outputs": [],
   "source": []
  }
 ],
 "metadata": {
  "kernelspec": {
   "display_name": "Python 3 (ipykernel)",
   "language": "python",
   "name": "python3"
  },
  "language_info": {
   "codemirror_mode": {
    "name": "ipython",
    "version": 3
   },
   "file_extension": ".py",
   "mimetype": "text/x-python",
   "name": "python",
   "nbconvert_exporter": "python",
   "pygments_lexer": "ipython3",
   "version": "3.9.13"
  }
 },
 "nbformat": 4,
 "nbformat_minor": 5
}
