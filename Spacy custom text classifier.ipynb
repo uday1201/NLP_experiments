{
 "cells": [
  {
   "cell_type": "code",
   "execution_count": 2,
   "id": "1f57c6be",
   "metadata": {},
   "outputs": [],
   "source": [
    "#!pip install spacy\n",
    "#!python3 -m spacy download en_core_web_sm\n",
    "import spacy\n",
    "#nlp=spacy.load(\"en_core_web_sm\")\n",
    "#nlp.pipe_names"
   ]
  },
  {
   "cell_type": "code",
   "execution_count": 24,
   "id": "1164be7f",
   "metadata": {},
   "outputs": [
    {
     "data": {
      "text/plain": [
       "[]"
      ]
     },
     "execution_count": 24,
     "metadata": {},
     "output_type": "execute_result"
    }
   ],
   "source": [
    "nlp = spacy.blank('en')\n",
    "nlp.pipe_names"
   ]
  },
  {
   "cell_type": "code",
   "execution_count": 25,
   "id": "6ace425f",
   "metadata": {},
   "outputs": [
    {
     "data": {
      "text/plain": [
       "['textcat']"
      ]
     },
     "execution_count": 25,
     "metadata": {},
     "output_type": "execute_result"
    }
   ],
   "source": [
    "import en_core_web_sm\n",
    "#from spacy.pipeline import textcat\n",
    "from spacy.pipeline.textcat_multilabel import DEFAULT_MULTI_TEXTCAT_MODEL\n",
    "config = {\n",
    "   \"threshold\": 0.5,\n",
    "   \"model\": DEFAULT_MULTI_TEXTCAT_MODEL,\n",
    "}\n",
    "\n",
    "#nlp = en_core_web_sm.load() # or nlp=spacy.load(\"en_core_web_sm\")\n",
    "\n",
    "#config = Config().from_str(single_label_cnn_config)\n",
    "if \"textcat\" not in nlp.pipe_names:\n",
    "     textcat = nlp.add_pipe('textcat', config=config, last=True)\n",
    "\n",
    "nlp.pipe_names"
   ]
  },
  {
   "cell_type": "code",
   "execution_count": 26,
   "id": "5c7b31f0",
   "metadata": {},
   "outputs": [
    {
     "data": {
      "text/plain": [
       "1"
      ]
     },
     "execution_count": 26,
     "metadata": {},
     "output_type": "execute_result"
    }
   ],
   "source": [
    "# Adding the labels to textcat\n",
    "textcat.add_label(\"class1\")\n",
    "textcat.add_label(\"class2\")\n",
    "textcat.add_label(\"class3\")\n",
    "#textcat.add_label(\"classneg\")"
   ]
  },
  {
   "cell_type": "markdown",
   "id": "8ae1fa68",
   "metadata": {},
   "source": [
    "# Revenue question data"
   ]
  },
  {
   "cell_type": "code",
   "execution_count": 66,
   "id": "204f9f5e",
   "metadata": {},
   "outputs": [],
   "source": [
    "train = [\n",
    "    (\"users\", 0),\n",
    "    (\"Subscribers\",0),\n",
    "    (\"Customers\",0),\n",
    "    (\"clients\",0),\n",
    "    (\"patrons\",0),\n",
    "    (\"payees\",0),\n",
    "    (\"members\",0),\n",
    "    (\"Average customer lifetime\",1),\n",
    "    (\"Customer lifespan\",1),\n",
    "    (\"Duration of subscription\",1),\n",
    "    (\"Churn\",1),\n",
    "    (\"Attrition\",1),\n",
    "    (\"Monthly fee\",2),\n",
    "    (\"Fee per user\",2),\n",
    "    (\"Charge\",2),\n",
    "    (\"Cost\",2),\n",
    "    (\"Average revenue per user\",2)\n",
    "]\n",
    "\n",
    "#     (\"Total revenue\",3),\n",
    "#     (\"Recurring revenue\",3),\n",
    "#     (\"Profits\",3),\n",
    "#     (\"Annual recurring revenue\",3),\n",
    "#     (\"Total income\",3),\n",
    "#     (\"Margins\",3),\n",
    "#     (\"Monthly\",3),\n",
    "#     (\"recurring revenue\",3)\n",
    "# ]"
   ]
  },
  {
   "cell_type": "markdown",
   "id": "672b9f1e",
   "metadata": {},
   "source": [
    "# Interview Question data"
   ]
  },
  {
   "cell_type": "code",
   "execution_count": 36,
   "id": "edfbafa7",
   "metadata": {},
   "outputs": [],
   "source": [
    "train = [\n",
    "    (\"Make sure questions are easy to understand\", 0),\n",
    "    (\"Make sure questions are easy to direct\", 0),\n",
    "    (\"Make sure questions are easy to straightforward\",0),\n",
    "    (\"Use short questions\", 0),\n",
    "    (\"Use succinct questions\", 0),\n",
    "    (\"Use clear questions\",0),\n",
    "    (\"Avoid questions that are too long\",0),\n",
    "    (\"Keep questions open ended\",1),\n",
    "    (\"Do not ask yes/no questions\",1),\n",
    "    (\"Do not ask closed questions\",1),\n",
    "    (\"Do not ask leading questions\",1),\n",
    "    (\"Avoid questions that suggest the answer you want\",1),\n",
    "    (\"Don't ask directly what they want\",1),\n",
    "    (\"Have a logical structure to the questions\",2),\n",
    "    (\"Questions should flow from one to the other\",2),\n",
    "    (\"Questions should be sequenced in a natural way\",2),\n",
    "    (\"Warm up before going into the detailed questions\",2),\n",
    "    (\"Start with some easier questions to help them relax\",2),\n",
    "    (\"Prepare your questions beforehand\",2)\n",
    "]"
   ]
  },
  {
   "cell_type": "code",
   "execution_count": 37,
   "id": "7f415d98",
   "metadata": {},
   "outputs": [
    {
     "data": {
      "text/plain": [
       "[('Make sure questions are easy to understand',\n",
       "  {'cats': {'class1': True, 'class2': False, 'class3': False}}),\n",
       " ('Make sure questions are easy to direct',\n",
       "  {'cats': {'class1': True, 'class2': False, 'class3': False}}),\n",
       " ('Make sure questions are easy to straightforward',\n",
       "  {'cats': {'class1': True, 'class2': False, 'class3': False}}),\n",
       " ('Use short questions',\n",
       "  {'cats': {'class1': True, 'class2': False, 'class3': False}}),\n",
       " ('Use succinct questions',\n",
       "  {'cats': {'class1': True, 'class2': False, 'class3': False}}),\n",
       " ('Use clear questions',\n",
       "  {'cats': {'class1': True, 'class2': False, 'class3': False}}),\n",
       " ('Avoid questions that are too long',\n",
       "  {'cats': {'class1': True, 'class2': False, 'class3': False}}),\n",
       " ('Keep questions open ended',\n",
       "  {'cats': {'class1': False, 'class2': True, 'class3': False}}),\n",
       " ('Do not ask yes/no questions',\n",
       "  {'cats': {'class1': False, 'class2': True, 'class3': False}}),\n",
       " ('Do not ask closed questions',\n",
       "  {'cats': {'class1': False, 'class2': True, 'class3': False}}),\n",
       " ('Do not ask leading questions',\n",
       "  {'cats': {'class1': False, 'class2': True, 'class3': False}}),\n",
       " ('Avoid questions that suggest the answer you want',\n",
       "  {'cats': {'class1': False, 'class2': True, 'class3': False}}),\n",
       " (\"Don't ask directly what they want\",\n",
       "  {'cats': {'class1': False, 'class2': True, 'class3': False}}),\n",
       " ('Have a logical structure to the questions',\n",
       "  {'cats': {'class1': False, 'class2': False, 'class3': True}}),\n",
       " ('Questions should flow from one to the other',\n",
       "  {'cats': {'class1': False, 'class2': False, 'class3': True}}),\n",
       " ('Questions should be sequenced in a natural way',\n",
       "  {'cats': {'class1': False, 'class2': False, 'class3': True}}),\n",
       " ('Warm up before going into the detailed questions',\n",
       "  {'cats': {'class1': False, 'class2': False, 'class3': True}}),\n",
       " ('Start with some easier questions to help them relax',\n",
       "  {'cats': {'class1': False, 'class2': False, 'class3': True}}),\n",
       " ('Prepare your questions beforehand',\n",
       "  {'cats': {'class1': False, 'class2': False, 'class3': True}})]"
      ]
     },
     "execution_count": 37,
     "metadata": {},
     "output_type": "execute_result"
    }
   ],
   "source": [
    "import random\n",
    "\n",
    "def load_data(limit=0, split=1):\n",
    "    train_data=train\n",
    "    # Shuffle the data\n",
    "    #random.shuffle(train_data)\n",
    "    texts, labels = zip(*train_data)\n",
    "    # get the categories for each review\n",
    "    cats = [{\"class1\": y==0, \"class2\": y==1, \"class3\": y==2} for y in labels]\n",
    "\n",
    "    # Splitting the training and evaluation data\n",
    "    split = int(len(train_data) * split)\n",
    "    return (texts[:split], cats[:split]), (texts[split:], cats[split:])\n",
    "\n",
    "\n",
    "# Calling the load_data() function \n",
    "(train_texts, train_cats), (dev_texts, dev_cats) = load_data()\n",
    "\n",
    "# Processing the final format of training data\n",
    "train_data = list(zip(train_texts,[{'cats': cats} for cats in train_cats]))\n",
    "train_data"
   ]
  },
  {
   "cell_type": "code",
   "execution_count": 38,
   "id": "623e30f4",
   "metadata": {},
   "outputs": [],
   "source": [
    "from spacy.util import minibatch, compounding\n",
    "from spacy.training.example import Example\n",
    "\n",
    "\n",
    "n_iter=50\n",
    "\n",
    "# Disabling other components\n",
    "other_pipes = [pipe for pipe in nlp.pipe_names if pipe != 'textcat']\n",
    "with nlp.disable_pipes(*other_pipes):  # only train textcat\n",
    "    optimizer = nlp.begin_training()\n",
    "\n",
    "    # Performing training\n",
    "    for i in range(n_iter):\n",
    "        losses = {}\n",
    "        batches = minibatch(train_data, size=compounding(4., 32., 1.001))\n",
    "        for batch in batches:\n",
    "            texts, annotations = zip(*batch)\n",
    "            example = []\n",
    "            # Update the model with iterating each text\n",
    "            for i in range(len(texts)):\n",
    "                doc = nlp.make_doc(texts[i])\n",
    "                example.append(Example.from_dict(doc, annotations[i]))\n",
    "            nlp.update(example, drop=0.5, losses=losses)"
   ]
  },
  {
   "cell_type": "code",
   "execution_count": 42,
   "id": "6880b9a7",
   "metadata": {},
   "outputs": [
    {
     "data": {
      "text/plain": [
       "{'class1': 0.8720095157623291,\n",
       " 'class2': 0.000574723759200424,\n",
       " 'class3': 0.5623210668563843}"
      ]
     },
     "execution_count": 42,
     "metadata": {},
     "output_type": "execute_result"
    }
   ],
   "source": [
    "# Testing the model\n",
    "test_text=\"Easy to understand and direct questions\"\n",
    "doc=nlp(test_text)\n",
    "doc.cats "
   ]
  },
  {
   "cell_type": "code",
   "execution_count": null,
   "id": "5bd9aac2",
   "metadata": {},
   "outputs": [],
   "source": []
  }
 ],
 "metadata": {
  "kernelspec": {
   "display_name": "Python 3 (ipykernel)",
   "language": "python",
   "name": "python3"
  },
  "language_info": {
   "codemirror_mode": {
    "name": "ipython",
    "version": 3
   },
   "file_extension": ".py",
   "mimetype": "text/x-python",
   "name": "python",
   "nbconvert_exporter": "python",
   "pygments_lexer": "ipython3",
   "version": "3.9.13"
  }
 },
 "nbformat": 4,
 "nbformat_minor": 5
}
